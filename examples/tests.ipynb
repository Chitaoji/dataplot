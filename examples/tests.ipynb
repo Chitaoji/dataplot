{
 "cells": [
  {
   "cell_type": "code",
   "execution_count": null,
   "metadata": {},
   "outputs": [],
   "source": [
    "# Managing the working directory. \n",
    "# NOTE: You DON'T want to change this. \n",
    "import sys\n",
    "from pathlib import Path\n",
    "\n",
    "p = Path(\"\").cwd().parent.as_posix()\n",
    "if p not in sys.path:\n",
    "    sys.path.append(p)"
   ]
  },
  {
   "cell_type": "code",
   "execution_count": null,
   "metadata": {},
   "outputs": [],
   "source": [
    "%%time\n",
    "import src as dp"
   ]
  },
  {
   "cell_type": "code",
   "execution_count": null,
   "metadata": {},
   "outputs": [],
   "source": [
    "try:\n",
    "    from .. import src as dp\n",
    "except ImportError:\n",
    "    import src as dp\n",
    "print(dp.__version__, dp.__all__)"
   ]
  },
  {
   "cell_type": "code",
   "execution_count": null,
   "metadata": {},
   "outputs": [],
   "source": [
    "import numpy as np\n",
    "\n",
    "np.random.seed(42)\n",
    "d1 = np.random.randn(1000) \n",
    "d2 = np.random.randn(1000) \n",
    "d3 = np.random.randn(1000) \n",
    "d4 = np.random.randn(1000) \n",
    "d5 = np.random.randn(1000)\n",
    "\n",
    "x1 = dp.data(d1)\n",
    "x2 = dp.data(d2, \"x2\")\n",
    "x3 = dp.data(d3, \"x3\")\n",
    "x4 = dp.data(d4, \"x4\")\n",
    "x5 = dp.data(d5, \"x5\")"
   ]
  },
  {
   "cell_type": "code",
   "execution_count": null,
   "metadata": {},
   "outputs": [],
   "source": [
    "s0 = x1.join(x1+x2, x1+x2+x3)\n",
    "a0 = s0.hist(title=\"Sums of i.i.d Normal Distributions\")"
   ]
  },
  {
   "cell_type": "code",
   "execution_count": null,
   "metadata": {},
   "outputs": [],
   "source": [
    "a1 = dp.data([d1, d2, d3, d4, d5]).cumsum()\\\n",
    "    .plot(title=\"Cummulative Sums of Random Numbers\", xlabel=\"num\", ylabel=\"value\")"
   ]
  },
  {
   "cell_type": "code",
   "execution_count": null,
   "metadata": {},
   "outputs": [],
   "source": [
    "a2 = x1.join(x1.exp()).qqplot()"
   ]
  },
  {
   "cell_type": "code",
   "execution_count": null,
   "metadata": {},
   "outputs": [],
   "source": [
    "noise = dp.data((np.minimum(d1.max()-d1, d1-d1.min())/(d1.max()-d1.min())), \"noise\")\n",
    "a3 = (x1 + noise).ksplot()"
   ]
  },
  {
   "cell_type": "code",
   "execution_count": null,
   "metadata": {},
   "outputs": [],
   "source": [
    "a4 = x1.join(x1+x2+x3).ppplot()"
   ]
  },
  {
   "cell_type": "code",
   "execution_count": null,
   "metadata": {},
   "outputs": [],
   "source": [
    "sum4 = x1+x2+x3+x4\n",
    "sum5 = sum4+x5\n",
    "a5 = s0.join(sum4.set_label(\"x1+...+x4\"), sum5.set_label(\"x1+...+x5\")).corrmap()"
   ]
  },
  {
   "cell_type": "code",
   "execution_count": null,
   "metadata": {},
   "outputs": [],
   "source": [
    "dp.show([a0, a1, a2, a3, a4, a5], title=\"Figure Collections\",\n",
    "        subplots_adjust={\"top\": 0.92})"
   ]
  }
 ],
 "metadata": {
  "kernelspec": {
   "display_name": "Python 3",
   "language": "python",
   "name": "python3"
  },
  "language_info": {
   "codemirror_mode": {
    "name": "ipython",
    "version": 3
   },
   "file_extension": ".py",
   "mimetype": "text/x-python",
   "name": "python",
   "nbconvert_exporter": "python",
   "pygments_lexer": "ipython3",
   "version": "3.11.9"
  }
 },
 "nbformat": 4,
 "nbformat_minor": 2
}
